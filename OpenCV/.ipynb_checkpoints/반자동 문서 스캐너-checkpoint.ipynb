{
 "cells": [
  {
   "cell_type": "markdown",
   "id": "3e6902ab-3631-43b8-acf3-040166da526d",
   "metadata": {},
   "source": [
    "# 반자동 문서 스캐너"
   ]
  },
  {
   "cell_type": "markdown",
   "id": "c3ee4e2b-0d9b-49d8-bf5c-7b8bff231612",
   "metadata": {},
   "source": [
    "### 마우스 이벤트 등록"
   ]
  },
  {
   "cell_type": "code",
   "execution_count": 7,
   "id": "262dbfb2-608c-4441-9229-7ec95e2aa926",
   "metadata": {
    "collapsed": true,
    "jupyter": {
     "outputs_hidden": true
    },
    "tags": []
   },
   "outputs": [
    {
     "name": "stdout",
     "output_type": "stream",
     "text": [
      "마우스 왼쪽 버튼 down\n",
      "327 156\n",
      "마우스 왼쪽 버튼 up\n",
      "327 156\n",
      "마우스 왼쪽 버튼 Double Click\n",
      "마우스 왼쪽 버튼 up\n",
      "327 156\n",
      "마우스 왼쪽 버튼 down\n",
      "276 132\n",
      "마우스 왼쪽 버튼 up\n",
      "276 132\n",
      "마우스 왼쪽 버튼 down\n",
      "363 145\n",
      "마우스 왼쪽 버튼 up\n",
      "363 145\n",
      "마우스 왼쪽 버튼 Double Click\n",
      "마우스 왼쪽 버튼 up\n",
      "363 145\n",
      "마우스 왼쪽 버튼 down\n",
      "377 126\n",
      "마우스 왼쪽 버튼 up\n",
      "377 126\n",
      "마우스 왼쪽 버튼 Double Click\n",
      "마우스 왼쪽 버튼 up\n",
      "377 126\n",
      "마우스 오른쪽 버튼 down\n",
      "마우스 왼쪽 버튼 down\n",
      "425 154\n",
      "마우스 왼쪽 버튼 up\n",
      "425 154\n",
      "마우스 왼쪽 버튼 Double Click\n",
      "마우스 왼쪽 버튼 up\n",
      "425 154\n"
     ]
    }
   ],
   "source": [
    "import cv2\n",
    "\n",
    "def mouse_handler(event, x, y, flags, param):\n",
    "    if event == cv2.EVENT_LBUTTONDOWN: # 마우스 왼쪽 버튼 누름(DOWN) 이벤트\n",
    "        print('마우스 왼쪽 버튼 down')\n",
    "        print(x, y)\n",
    "    elif event == cv2.EVENT_LBUTTONUP:  # 마우스 왼쪽 버튼 누름 해제(UP) 이벤트\n",
    "        print('마우스 왼쪽 버튼 up')\n",
    "        print(x, y)\n",
    "    elif event == cv2.EVENT_LBUTTONDBLCLK:  # 마우스 왼쪽 버튼 더블클릭\n",
    "        print('마우스 왼쪽 버튼 Double Click')\n",
    "    #elif event == cv2.EVENT_MOUSEMOVE :  # 마우스 이동\n",
    "    #    print('마우스 이동')\n",
    "    elif event == cv2.EVENT_RBUTTONDOWN: # 마우스 오른쪽 버튼 누름(DOWN) 이벤트\n",
    "        print('마우스 오른쪽 버튼 down')\n",
    "\n",
    "img = cv2.imread('img.jpg')\n",
    "cv2.namedWindow('img') #img란 이름의 윈도우를 먼저 만들어 두는 것. 여기에 마우스 이벤트를 처리하기 위한 핸들러 적용\n",
    "cv2.setMouseCallback('img', mouse_handler)\n",
    "cv2.imshow('img', img)\n",
    "cv2.waitKey(0)\n",
    "cv2.destroyAllWindows()\n",
    "\n",
    "#ㅇ"
   ]
  },
  {
   "cell_type": "markdown",
   "id": "cd244d54-90bf-48b0-8718-f9120bc7761d",
   "metadata": {},
   "source": [
    "## 프로젝트"
   ]
  },
  {
   "cell_type": "code",
   "execution_count": 21,
   "id": "a1742a27-496d-4a29-9c58-ef9c39d07c16",
   "metadata": {},
   "outputs": [],
   "source": [
    "import cv2\n",
    "import numpy as np\n",
    "\n",
    "\n",
    "point_list = []\n",
    "src_img = cv2.imread('pictures.jpg')\n",
    "\n",
    "COLOR = (255,0,255)\n",
    "THICKNESS = 3\n",
    "drawing = False\n",
    "\n",
    "def mouse_handler(event, x, y, flags, param):\n",
    "    global drawing\n",
    "    dst_img = src_img.copy()\n",
    "    \n",
    "    if event == cv2.EVENT_LBUTTONDOWN: # 마우스 왼쪽 버튼 누름(DOWN) 이벤트\n",
    "        drawing = True # 선을 그리기 시작\n",
    "        point_list.append((x,y))\n",
    "    \n",
    "    if drawing:\n",
    "        prev_point = None  # 직선의 시작점\n",
    "        for point in point_list:\n",
    "            cv2.circle(dst_img, point, 5, COLOR, cv2.FILLED)\n",
    "            if prev_point:\n",
    "                cv2.line(dst_img, prev_point, point, COLOR, THICKNESS, cv2.LINE_AA)\n",
    "            prev_point = point\n",
    "        \n",
    "        next_point = (x,y)\n",
    "        if len(point_list) == 4 :\n",
    "            show_result()   # 결과 출력\n",
    "            next_point = point_list[0]\n",
    "        cv2.line(dst_img, prev_point, next_point, COLOR, THICKNESS, cv2.LINE_AA)\n",
    "\n",
    "        \n",
    "    cv2.imshow('img', dst_img)\n",
    "\n",
    "    \n",
    "def show_result():\n",
    "    width, height = 710, 530\n",
    "    src = np.float32(point_list)\n",
    "    dst = np.array([[0,0], [width,0], [width, height],[0, height]], dtype=np.float32)\n",
    "    # 좌상, 우상, 우하, 좌하 (시계 방향으로 4 지점 정의)\n",
    "    \n",
    "    matrix = cv2.getPerspectiveTransform(src, dst)  # Matrix 얻어옴\n",
    "    result = cv2.warpPerspective(src_img, matrix, (width, height)) # Matrix 대로 변환\n",
    "    cv2.imshow('result', result)\n",
    "    \n",
    "    \n",
    "    \n",
    "cv2.namedWindow('img') #img란 이름의 윈도우를 먼저 만들어 두는 것. 여기에 마우스 이벤트를 처리하기 위한 핸들러 적용\n",
    "cv2.setMouseCallback('img', mouse_handler)\n",
    "cv2.imshow('img', src_img)\n",
    "cv2.waitKey(0)\n",
    "cv2.destroyAllWindows()"
   ]
  }
 ],
 "metadata": {
  "kernelspec": {
   "display_name": "GitKernel",
   "language": "python",
   "name": "datascience"
  },
  "language_info": {
   "codemirror_mode": {
    "name": "ipython",
    "version": 3
   },
   "file_extension": ".py",
   "mimetype": "text/x-python",
   "name": "python",
   "nbconvert_exporter": "python",
   "pygments_lexer": "ipython3",
   "version": "3.8.8"
  }
 },
 "nbformat": 4,
 "nbformat_minor": 5
}
