{
 "cells": [
  {
   "cell_type": "markdown",
   "id": "6462dd12-d7ec-454c-87f7-a4f60662a2ce",
   "metadata": {},
   "source": [
    "# 13. 이미지 변형 (이진화)"
   ]
  },
  {
   "cell_type": "code",
   "execution_count": 2,
   "id": "905e0c91-52bf-4ee1-ab77-879add823475",
   "metadata": {},
   "outputs": [],
   "source": [
    "import cv2\n",
    "img = cv2.imread('book.jpg', cv2.IMREAD_GRAYSCALE)\n",
    "\n",
    "ret, binary = cv2.threshold(img, 127, 255, cv2.THRESH_BINARY)\n",
    "\n",
    "cv2.imshow('img', img)\n",
    "cv2.imshow('binary', binary)\n",
    "cv2.waitKey(0)\n",
    "cv2.destroyAllWindows()"
   ]
  },
  {
   "cell_type": "markdown",
   "id": "144acbfa-7e8c-4705-aaee-d0449e3efb53",
   "metadata": {},
   "source": [
    "# Trackbar (값 변화에 따른 변형 확인)"
   ]
  },
  {
   "cell_type": "code",
   "execution_count": null,
   "id": "023bd211-f4bc-4578-b904-81979347a796",
   "metadata": {},
   "outputs": [],
   "source": [
    "import cv2\n",
    "img = cv2.imread('book.jpg', cv2.IMREAD_GRAYSCALE)\n",
    "\n",
    "name = 'Trackbar'"
   ]
  }
 ],
 "metadata": {
  "kernelspec": {
   "display_name": "Python 3 (ipykernel)",
   "language": "python",
   "name": "python3"
  },
  "language_info": {
   "codemirror_mode": {
    "name": "ipython",
    "version": 3
   },
   "file_extension": ".py",
   "mimetype": "text/x-python",
   "name": "python",
   "nbconvert_exporter": "python",
   "pygments_lexer": "ipython3",
   "version": "3.8.8"
  }
 },
 "nbformat": 4,
 "nbformat_minor": 5
}
