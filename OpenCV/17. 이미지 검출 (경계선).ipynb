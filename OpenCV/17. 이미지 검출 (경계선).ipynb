{
 "cells": [
  {
   "cell_type": "markdown",
   "id": "1e81194c",
   "metadata": {},
   "source": [
    "# 17. 이미지 검출 (경계선)"
   ]
  },
  {
   "cell_type": "markdown",
   "id": "78ba47b7",
   "metadata": {},
   "source": [
    "## Canny Edge Detection"
   ]
  },
  {
   "cell_type": "code",
   "execution_count": 1,
   "id": "452687f7",
   "metadata": {},
   "outputs": [],
   "source": [
    "import cv2\n",
    "img = cv2.imread('snowman.png')\n",
    "\n",
    "canny = cv2.Canny(img, 150, 200)\n",
    "# 예상 이미지, minVal(하위임계값), maxVal(상위임계값)\n",
    "# 이미지 내의 픽셀이 상위 임계값보다 큰 기울기를 가지면, 경계선으로 간주\n",
    "\n",
    "\n",
    "cv2.imshow('img', img)\n",
    "cv2.imshow('canny',canny)\n",
    "cv2.waitKey(0)\n",
    "cv2.destroyAllWindows()"
   ]
  },
  {
   "cell_type": "markdown",
   "id": "426ff573",
   "metadata": {},
   "source": [
    "# Trackbar 사용"
   ]
  },
  {
   "cell_type": "code",
   "execution_count": 3,
   "id": "c8dd5c0c",
   "metadata": {},
   "outputs": [],
   "source": [
    "import cv2\n",
    "img = cv2.imread('snowman.png')\n",
    "\n",
    "\n",
    "def empty(pos):\n",
    "    pass\n",
    "\n",
    "\n",
    "name = 'Trackbar'\n",
    "cv2.namedWindow(name) # Trackbar 라는 이름의 윈도우 생성\n",
    "cv2.createTrackbar('threshold1', name, 0, 255, empty)  # minVal\n",
    "cv2.createTrackbar('threshold2', name, 0, 255, empty)  # maxVal\n",
    "\n",
    "\n",
    "while True:\n",
    "    threshold1 = cv2.getTrackbarPos('threshold1', name)\n",
    "    threshold2 = cv2.getTrackbarPos('threshold2', name)\n",
    "\n",
    "    canny = cv2.Canny(img, threshold1, threshold2)\n",
    "# 예상 이미지, minVal(하위임계값), maxVal(상위임계값)\n",
    "# 이미지 내의 픽셀이 상위 임계값보다 큰 기울기를 가지면, 경계선으로 간주\n",
    "\n",
    "    cv2.imshow('img', img)\n",
    "    cv2.imshow(name,canny)\n",
    "    \n",
    "    if cv2.waitKey(1) == ord('q'):\n",
    "        break\n",
    "        \n",
    "    \n",
    "cv2.destroyAllWindows()"
   ]
  }
 ],
 "metadata": {
  "kernelspec": {
   "display_name": "Python 3 (ipykernel)",
   "language": "python",
   "name": "python3"
  },
  "language_info": {
   "codemirror_mode": {
    "name": "ipython",
    "version": 3
   },
   "file_extension": ".py",
   "mimetype": "text/x-python",
   "name": "python",
   "nbconvert_exporter": "python",
   "pygments_lexer": "ipython3",
   "version": "3.8.8"
  }
 },
 "nbformat": 4,
 "nbformat_minor": 5
}
