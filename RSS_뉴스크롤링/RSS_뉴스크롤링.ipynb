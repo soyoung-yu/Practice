{
 "cells": [
  {
   "cell_type": "code",
   "execution_count": 1,
   "metadata": {},
   "outputs": [
    {
     "name": "stdout",
     "output_type": "stream",
     "text": [
      "Collecting feedparser\n",
      "  Downloading feedparser-6.0.8-py3-none-any.whl (81 kB)\n",
      "Collecting sgmllib3k\n",
      "  Downloading sgmllib3k-1.0.0.tar.gz (5.8 kB)\n",
      "Building wheels for collected packages: sgmllib3k\n",
      "  Building wheel for sgmllib3k (setup.py): started\n",
      "  Building wheel for sgmllib3k (setup.py): finished with status 'done'\n",
      "  Created wheel for sgmllib3k: filename=sgmllib3k-1.0.0-py3-none-any.whl size=6065 sha256=b8576d71e823a0517ddd7c0c3ff4a5a179548cd7673ed62c4c6b8d6222977146\n",
      "  Stored in directory: c:\\users\\soyoung\\appdata\\local\\pip\\cache\\wheels\\83\\63\\2f\\117884c3b19d46b64d3d61690333aa80c88dc14050e269c546\n",
      "Successfully built sgmllib3k\n",
      "Installing collected packages: sgmllib3k, feedparser\n",
      "Successfully installed feedparser-6.0.8 sgmllib3k-1.0.0\n"
     ]
    }
   ],
   "source": [
    "#feedparser를 활용\n",
    "!pip install feedparser"
   ]
  },
  {
   "cell_type": "code",
   "execution_count": 1,
   "metadata": {},
   "outputs": [],
   "source": [
    "import feedparser\n",
    "\n",
    "#feedparser로 특정 사이트의 rss 주소를 파싱한다.\n",
    "parse_rss = feedparser.parse(\"https://rss.hankyung.com/feed/economy.xml\")"
   ]
  },
  {
   "cell_type": "code",
   "execution_count": 2,
   "metadata": {},
   "outputs": [
    {
     "data": {
      "text/plain": [
       "{'title': '14일 금통위…기준금리 추가인상 단행할 듯',\n",
       " 'title_detail': {'type': 'text/plain',\n",
       "  'language': None,\n",
       "  'base': 'https://rss.hankyung.com/feed/economy.xml',\n",
       "  'value': '14일 금통위…기준금리 추가인상 단행할 듯'},\n",
       " 'links': [{'rel': 'alternate',\n",
       "   'type': 'text/html',\n",
       "   'href': 'https://www.hankyung.com/economy/article/2022040557531?rss=r'}],\n",
       " 'link': 'https://www.hankyung.com/economy/article/2022040557531?rss=r',\n",
       " 'authors': [{'name': '조미현'}],\n",
       " 'author': '조미현',\n",
       " 'author_detail': {'name': '조미현'},\n",
       " 'published': 'Tue, 05 Apr 2022 17:28:24 +0900',\n",
       " 'published_parsed': time.struct_time(tm_year=2022, tm_mon=4, tm_mday=5, tm_hour=8, tm_min=28, tm_sec=24, tm_wday=1, tm_yday=95, tm_isdst=0)}"
      ]
     },
     "execution_count": 2,
     "metadata": {},
     "output_type": "execute_result"
    }
   ],
   "source": [
    "#파싱된 데이터를 .entries로 보면 기사의 상세정보들이 딕셔너리 형태로 담겨져 있다.\n",
    "parse_rss.entries[1]"
   ]
  },
  {
   "cell_type": "code",
   "execution_count": 16,
   "metadata": {},
   "outputs": [
    {
     "data": {
      "text/plain": [
       "\"KB국민카드, AI 분석 플랫폼 '에이옵' 본격 가동한다\""
      ]
     },
     "execution_count": 16,
     "metadata": {},
     "output_type": "execute_result"
    }
   ],
   "source": [
    "#각각의 기사에서 .key값 으로 특정 기사의 특정 key의 value를 추출할 수 있다.\n",
    "#ex) 첫번째 기사의 title 추출\n",
    "parse_rss.entries[0].title"
   ]
  },
  {
   "cell_type": "code",
   "execution_count": 17,
   "metadata": {},
   "outputs": [
    {
     "name": "stdout",
     "output_type": "stream",
     "text": [
      "KB국민카드, AI 분석 플랫폼 '에이옵' 본격 가동한다 https://www.hankyung.com/economy/article/2022033005886?rss=r\n",
      "기아, 앱 통해 고객과 소통…\"서비스·제품 개발에 반영\" https://www.hankyung.com/economy/article/202203300317g?rss=r\n",
      "中 상하이 봉쇄…경제적 타격 얼마나 될까 ﻿[Dr.J's China Insight] https://www.hankyung.com/thepen/moneyist/article/202203298498Q?rss=r\n",
      "우크라 긴장완화에 뉴욕증시 상승…美 '백신 4차접종' 승인 [모닝브리핑] https://www.hankyung.com/economy/article/2022033001357?rss=r\n",
      "\"내 보험금인데 왜 못 받아?\"…백내장·도수치료 심사 깐깐해진다 https://www.hankyung.com/economy/article/2022032999236?rss=r\n",
      "'산업부 통상기능 외교부 이관' 논란에 불편한 미국 https://www.hankyung.com/economy/article/2022032999651?rss=r\n",
      "\"삼성도 훌륭하지만…\" 엔비디아, 결국 TSMC 선택한 이유 [실리콘밸리 나우] https://www.hankyung.com/economy/article/202203309993i?rss=r\n",
      "골프, 리빙으로 영역 넓히는 명품 커머스들...'전문몰(mall)'에서 '슈퍼앱'으로 변신하는 속사정[한경 엣지] https://www.hankyung.com/economy/article/202203297900i?rss=r\n",
      "\"보고서 전면에 핵심 데이터부터 배치\"...임영진 신한카드 사장의 '보고서 혁신' [한경 엣지] https://www.hankyung.com/economy/article/202203285114i?rss=r\n",
      "\"샤넬 리셀서 갈아탔다\"…웃돈 300만원씩 붙는다는 시계 https://www.hankyung.com/economy/article/202203299576g?rss=r\n",
      "공정위, 이마트 현장 조사…\"대규모유통업법 위반 점검\" https://www.hankyung.com/economy/article/2022032998887?rss=r\n",
      "'머리 감으면 흰 머리 염색'…식약처 제동에도 결국 판 커졌다 https://www.hankyung.com/economy/article/202203298766g?rss=r\n",
      "해태제과, 맛동산 시즌 에디션 '꿀단지' 출시 https://www.hankyung.com/economy/article/2022032998437?rss=r\n",
      "\"백신 안 맞고 버텼는데…\" 미접종자가 갈 수 있는 국가는? https://www.hankyung.com/economy/article/2022032997817?rss=r\n",
      "제주에 3년 연속 '5성급 뉴페이스' 등판…올해는 파르나스 https://www.hankyung.com/economy/article/202203299378g?rss=r\n",
      "카카오뱅크, ESG위원회 신설…첫 여성 사외이사 선임 https://www.hankyung.com/economy/article/2022032997521?rss=r\n",
      "[포토] 엔화가치 연일 하락 https://www.hankyung.com/economy/article/2022032995001?rss=r\n",
      "주담대 금리 年 6% 넘었다 https://www.hankyung.com/economy/article/2022032995401?rss=r\n",
      "은행 신용대출 푼다지만…사실상 고소득자만 혜택 https://www.hankyung.com/economy/article/2022032995381?rss=r\n",
      "하나금융, 소방대원 신규대출 금리 우대 https://www.hankyung.com/economy/article/2022032995361?rss=r\n"
     ]
    }
   ],
   "source": [
    "#기사의 title과 link 주소를 프린트\n",
    "for p in parse_rss.entries:\n",
    "    print(p.title, p.link)    "
   ]
  },
  {
   "cell_type": "code",
   "execution_count": 18,
   "metadata": {},
   "outputs": [
    {
     "name": "stdout",
     "output_type": "stream",
     "text": [
      "[{'title': \"KB국민카드, AI 분석 플랫폼 '에이옵' 본격 가동한다\", 'link': 'https://www.hankyung.com/economy/article/2022033005886?rss=r'}, {'title': '기아, 앱 통해 고객과 소통…\"서비스·제품 개발에 반영\"', 'link': 'https://www.hankyung.com/economy/article/202203300317g?rss=r'}, {'title': \"中 상하이 봉쇄…경제적 타격 얼마나 될까 \\ufeff[Dr.J's China Insight]\", 'link': 'https://www.hankyung.com/thepen/moneyist/article/202203298498Q?rss=r'}, {'title': \"우크라 긴장완화에 뉴욕증시 상승…美 '백신 4차접종' 승인 [모닝브리핑]\", 'link': 'https://www.hankyung.com/economy/article/2022033001357?rss=r'}, {'title': '\"내 보험금인데 왜 못 받아?\"…백내장·도수치료 심사 깐깐해진다', 'link': 'https://www.hankyung.com/economy/article/2022032999236?rss=r'}, {'title': \"'산업부 통상기능 외교부 이관' 논란에 불편한 미국\", 'link': 'https://www.hankyung.com/economy/article/2022032999651?rss=r'}, {'title': '\"삼성도 훌륭하지만…\" 엔비디아, 결국 TSMC 선택한 이유 [실리콘밸리 나우]', 'link': 'https://www.hankyung.com/economy/article/202203309993i?rss=r'}, {'title': \"골프, 리빙으로 영역 넓히는 명품 커머스들...'전문몰(mall)'에서 '슈퍼앱'으로 변신하는 속사정[한경 엣지]\", 'link': 'https://www.hankyung.com/economy/article/202203297900i?rss=r'}, {'title': '\"보고서 전면에 핵심 데이터부터 배치\"...임영진 신한카드 사장의 \\'보고서 혁신\\' [한경 엣지]', 'link': 'https://www.hankyung.com/economy/article/202203285114i?rss=r'}, {'title': '\"샤넬 리셀서 갈아탔다\"…웃돈 300만원씩 붙는다는 시계', 'link': 'https://www.hankyung.com/economy/article/202203299576g?rss=r'}, {'title': '공정위, 이마트 현장 조사…\"대규모유통업법 위반 점검\"', 'link': 'https://www.hankyung.com/economy/article/2022032998887?rss=r'}, {'title': \"'머리 감으면 흰 머리 염색'…식약처 제동에도 결국 판 커졌다\", 'link': 'https://www.hankyung.com/economy/article/202203298766g?rss=r'}, {'title': \"해태제과, 맛동산 시즌 에디션 '꿀단지' 출시\", 'link': 'https://www.hankyung.com/economy/article/2022032998437?rss=r'}, {'title': '\"백신 안 맞고 버텼는데…\" 미접종자가 갈 수 있는 국가는?', 'link': 'https://www.hankyung.com/economy/article/2022032997817?rss=r'}, {'title': \"제주에 3년 연속 '5성급 뉴페이스' 등판…올해는 파르나스\", 'link': 'https://www.hankyung.com/economy/article/202203299378g?rss=r'}, {'title': '카카오뱅크, ESG위원회 신설…첫 여성 사외이사 선임', 'link': 'https://www.hankyung.com/economy/article/2022032997521?rss=r'}, {'title': '[포토] 엔화가치 연일 하락', 'link': 'https://www.hankyung.com/economy/article/2022032995001?rss=r'}, {'title': '주담대 금리 年 6% 넘었다', 'link': 'https://www.hankyung.com/economy/article/2022032995401?rss=r'}, {'title': '은행 신용대출 푼다지만…사실상 고소득자만 혜택', 'link': 'https://www.hankyung.com/economy/article/2022032995381?rss=r'}, {'title': '하나금융, 소방대원 신규대출 금리 우대', 'link': 'https://www.hankyung.com/economy/article/2022032995361?rss=r'}]\n"
     ]
    }
   ],
   "source": [
    "#기사 제목과 링크를 리스트로 저장\n",
    "rss_list = []\n",
    "\n",
    "for p in parse_rss.entries:\n",
    "    rss_list.append({'title':p.title, \n",
    "                     'link':p.link})\n",
    "\n",
    "print(rss_list)"
   ]
  },
  {
   "cell_type": "code",
   "execution_count": 27,
   "metadata": {},
   "outputs": [
    {
     "name": "stdout",
     "output_type": "stream",
     "text": [
      "연합뉴스 parsing...\n",
      "연합뉴스 parsing complete\n",
      "한경 parsing...\n",
      "한경 parsing complete\n",
      "jTBC parsing...\n",
      "jTBC parsing complete\n",
      "CNN parsing...\n",
      "CNN parsing complete\n"
     ]
    },
    {
     "data": {
      "text/html": [
       "<div>\n",
       "<style scoped>\n",
       "    .dataframe tbody tr th:only-of-type {\n",
       "        vertical-align: middle;\n",
       "    }\n",
       "\n",
       "    .dataframe tbody tr th {\n",
       "        vertical-align: top;\n",
       "    }\n",
       "\n",
       "    .dataframe thead th {\n",
       "        text-align: right;\n",
       "    }\n",
       "</style>\n",
       "<table border=\"1\" class=\"dataframe\">\n",
       "  <thead>\n",
       "    <tr style=\"text-align: right;\">\n",
       "      <th></th>\n",
       "      <th>source</th>\n",
       "      <th>title</th>\n",
       "      <th>link</th>\n",
       "    </tr>\n",
       "  </thead>\n",
       "  <tbody>\n",
       "    <tr>\n",
       "      <th>0</th>\n",
       "      <td>연합뉴스</td>\n",
       "      <td>\"건설자재값 안정화 속도 더딜 것…회복세 완만할듯\"</td>\n",
       "      <td>http://www.yonhapnewstv.co.kr/news/MYH20220330...</td>\n",
       "    </tr>\n",
       "    <tr>\n",
       "      <th>1</th>\n",
       "      <td>연합뉴스</td>\n",
       "      <td>어젯밤 9시까지 41만 4천여명 확진…하루 전보다 8만여명↑</td>\n",
       "      <td>http://www.yonhapnewstv.co.kr/news/MYH20220330...</td>\n",
       "    </tr>\n",
       "    <tr>\n",
       "      <th>2</th>\n",
       "      <td>연합뉴스</td>\n",
       "      <td>법원, 쌍용차 회생계획안 폐지…계약 해제는 공방</td>\n",
       "      <td>http://www.yonhapnewstv.co.kr/news/MYH20220330...</td>\n",
       "    </tr>\n",
       "    <tr>\n",
       "      <th>3</th>\n",
       "      <td>연합뉴스</td>\n",
       "      <td>거래소, 오스템임플란트 상폐 결정 미뤄…추후 재개</td>\n",
       "      <td>http://www.yonhapnewstv.co.kr/news/MYH20220330...</td>\n",
       "    </tr>\n",
       "    <tr>\n",
       "      <th>4</th>\n",
       "      <td>연합뉴스</td>\n",
       "      <td>대기업 진출길 열렸는데…중고차단체 \"시간을 달라\"</td>\n",
       "      <td>http://www.yonhapnewstv.co.kr/news/MYH20220330...</td>\n",
       "    </tr>\n",
       "    <tr>\n",
       "      <th>...</th>\n",
       "      <td>...</td>\n",
       "      <td>...</td>\n",
       "      <td>...</td>\n",
       "    </tr>\n",
       "    <tr>\n",
       "      <th>75</th>\n",
       "      <td>CNN</td>\n",
       "      <td></td>\n",
       "      <td>https://www.cnn.com/2022/03/25/asia/gallery/sn...</td>\n",
       "    </tr>\n",
       "    <tr>\n",
       "      <th>76</th>\n",
       "      <td>CNN</td>\n",
       "      <td>What we know about North Korea's new ICBM</td>\n",
       "      <td>https://www.cnn.com/2022/03/25/asia/north-kore...</td>\n",
       "    </tr>\n",
       "    <tr>\n",
       "      <th>77</th>\n",
       "      <td>CNN</td>\n",
       "      <td>North Korea fires first suspected ICBM since 2017</td>\n",
       "      <td>https://www.cnn.com/2022/03/24/asia/north-kore...</td>\n",
       "    </tr>\n",
       "    <tr>\n",
       "      <th>78</th>\n",
       "      <td>CNN</td>\n",
       "      <td>Taliban postpones return to school for Afghan ...</td>\n",
       "      <td>https://www.cnn.com/2022/03/23/asia/taliban-gi...</td>\n",
       "    </tr>\n",
       "    <tr>\n",
       "      <th>79</th>\n",
       "      <td>CNN</td>\n",
       "      <td>One in five South Koreans have had Covid, as l...</td>\n",
       "      <td>https://www.cnn.com/2022/03/24/asia/south-kore...</td>\n",
       "    </tr>\n",
       "  </tbody>\n",
       "</table>\n",
       "<p>80 rows × 3 columns</p>\n",
       "</div>"
      ],
      "text/plain": [
       "   source                                              title  \\\n",
       "0    연합뉴스                       \"건설자재값 안정화 속도 더딜 것…회복세 완만할듯\"   \n",
       "1    연합뉴스                  어젯밤 9시까지 41만 4천여명 확진…하루 전보다 8만여명↑   \n",
       "2    연합뉴스                         법원, 쌍용차 회생계획안 폐지…계약 해제는 공방   \n",
       "3    연합뉴스                        거래소, 오스템임플란트 상폐 결정 미뤄…추후 재개   \n",
       "4    연합뉴스                        대기업 진출길 열렸는데…중고차단체 \"시간을 달라\"   \n",
       "..    ...                                                ...   \n",
       "75    CNN                                                      \n",
       "76    CNN          What we know about North Korea's new ICBM   \n",
       "77    CNN  North Korea fires first suspected ICBM since 2017   \n",
       "78    CNN  Taliban postpones return to school for Afghan ...   \n",
       "79    CNN  One in five South Koreans have had Covid, as l...   \n",
       "\n",
       "                                                 link  \n",
       "0   http://www.yonhapnewstv.co.kr/news/MYH20220330...  \n",
       "1   http://www.yonhapnewstv.co.kr/news/MYH20220330...  \n",
       "2   http://www.yonhapnewstv.co.kr/news/MYH20220330...  \n",
       "3   http://www.yonhapnewstv.co.kr/news/MYH20220330...  \n",
       "4   http://www.yonhapnewstv.co.kr/news/MYH20220330...  \n",
       "..                                                ...  \n",
       "75  https://www.cnn.com/2022/03/25/asia/gallery/sn...  \n",
       "76  https://www.cnn.com/2022/03/25/asia/north-kore...  \n",
       "77  https://www.cnn.com/2022/03/24/asia/north-kore...  \n",
       "78  https://www.cnn.com/2022/03/23/asia/taliban-gi...  \n",
       "79  https://www.cnn.com/2022/03/24/asia/south-kore...  \n",
       "\n",
       "[80 rows x 3 columns]"
      ]
     },
     "execution_count": 27,
     "metadata": {},
     "output_type": "execute_result"
    }
   ],
   "source": [
    "#정리\n",
    "import feedparser\n",
    "import pandas as pd\n",
    "\n",
    "rss_list = [\"https://www.yonhapnewstv.co.kr/category/news/economy/feed\",\n",
    "            \"https://rss.hankyung.com/feed/economy.xml\",\n",
    "            \"https://fs.jtbc.joins.com//RSS/economy.xml\",\n",
    "            \"http://rss.cnn.com/rss/edition_asia.rss\"]\n",
    "\n",
    "\n",
    "source_list = ['연합뉴스','한경','jTBC','CNN'] \n",
    "rss_df = pd.DataFrame(columns=['source', 'title', 'link'])\n",
    "\n",
    "a = -1  #source_list의 값을 for문 반복 순서에 따라 하나씩 사용하기 위해 초기값 셋팅\n",
    "for rss in rss_list:\n",
    "    a += 1\n",
    "    source_name = source_list[a]  #for문 반복순서에 따라 list 값을 하나씩 사용\n",
    "    \n",
    "    print(source_name, \"parsing...\")\n",
    "    parse_rss = feedparser.parse(rss)   #rss 파싱 > 특정 source의 rss피드가 파싱됨\n",
    "    \n",
    "    for p in parse_rss.entries:       #특정 source의 파싱된 rss에서 기사 단위로 파악\n",
    "        article_list = []\n",
    "        article_list.append(source_name)\n",
    "        article_list.append(p.title)\n",
    "        article_list.append(p.link)\n",
    "        #하나의 기사의 title과 link만 추출하여 리스트로 만들고, 리스트를 df에 추가\n",
    "        rss_df = rss_df.append(pd.Series(article_list, index=rss_df.columns), ignore_index=True)\n",
    "        \n",
    "    print(source_name, \"parsing complete\")\n",
    "    \n",
    "rss_df"
   ]
  },
  {
   "cell_type": "code",
   "execution_count": null,
   "metadata": {},
   "outputs": [],
   "source": []
  }
 ],
 "metadata": {
  "interpreter": {
   "hash": "0f8fb7adc931f2b8a212ad7049c9ad0b86fab8e99f164705d79a917769a618d0"
  },
  "kernelspec": {
   "display_name": "Python 3.8.8 ('base')",
   "language": "python",
   "name": "python3"
  },
  "language_info": {
   "codemirror_mode": {
    "name": "ipython",
    "version": 3
   },
   "file_extension": ".py",
   "mimetype": "text/x-python",
   "name": "python",
   "nbconvert_exporter": "python",
   "pygments_lexer": "ipython3",
   "version": "3.8.8"
  },
  "orig_nbformat": 4
 },
 "nbformat": 4,
 "nbformat_minor": 2
}
